{
  "nbformat": 4,
  "nbformat_minor": 0,
  "metadata": {
    "colab": {
      "name": "Sarcasm Classifier.ipynb",
      "provenance": []
    },
    "kernelspec": {
      "name": "python3",
      "display_name": "Python 3"
    },
    "language_info": {
      "name": "python"
    }
  },
  "cells": [
    {
      "cell_type": "code",
      "metadata": {
        "id": "zvNo3teswHW2"
      },
      "source": [
        "import json\n",
        "import tensorflow as tf\n",
        "from tensorflow.keras.preprocessing.text import Tokenizer\n",
        "from tensorflow.keras.preprocessing.sequence import pad_sequences"
      ],
      "execution_count": 3,
      "outputs": []
    },
    {
      "cell_type": "code",
      "metadata": {
        "id": "YzrFHcZzzuji"
      },
      "source": [
        "vocab_size=1000\n",
        "embedding_size=16\n",
        "max_length=20\n",
        "trunc_type='post'\n",
        "padding_type='post'\n",
        "oov_token='<OOV>'\n",
        "training_size=20000"
      ],
      "execution_count": 37,
      "outputs": []
    },
    {
      "cell_type": "code",
      "metadata": {
        "colab": {
          "base_uri": "https://localhost:8080/"
        },
        "id": "ZkogQYva0Mgf",
        "outputId": "fd7cefc0-bd88-4d0a-f300-062c572a98f0"
      },
      "source": [
        "!gdown --id 1dRzdJS7-cZS4S5CuUc32MZYSLJGkkxnp"
      ],
      "execution_count": 5,
      "outputs": [
        {
          "output_type": "stream",
          "text": [
            "Downloading...\n",
            "From: https://drive.google.com/uc?id=1dRzdJS7-cZS4S5CuUc32MZYSLJGkkxnp\n",
            "To: /content/sarcasm.json\n",
            "\r0.00B [00:00, ?B/s]\r5.64MB [00:00, 49.7MB/s]\n"
          ],
          "name": "stdout"
        }
      ]
    },
    {
      "cell_type": "code",
      "metadata": {
        "id": "o2_WztEU0O_H"
      },
      "source": [
        "with open('/content/sarcasm.json','r') as f:\n",
        "  datastore=json.load(f)\n",
        "\n",
        "sentences=[]\n",
        "labels=[]\n",
        "for item in datastore:\n",
        "  sentences.append(item['headline'])\n",
        "  labels.append(item['is_sarcastic'])"
      ],
      "execution_count": 38,
      "outputs": []
    },
    {
      "cell_type": "code",
      "metadata": {
        "id": "WlnyOj5Z0YUE"
      },
      "source": [
        "training_sentences=sentences[0:training_size]\n",
        "testing_sentences=sentences[training_size:]\n",
        "training_labels=labels[0:training_size]\n",
        "testing_labels=labels[training_size:]"
      ],
      "execution_count": 39,
      "outputs": []
    },
    {
      "cell_type": "code",
      "metadata": {
        "id": "6MTGxWVt2SkQ"
      },
      "source": [
        "tokenizer=Tokenizer(vocab_size,oov_token=oov_token)\n",
        "tokenizer.fit_on_texts(training_sentences)\n",
        "word_index=tokenizer.word_index"
      ],
      "execution_count": 40,
      "outputs": []
    },
    {
      "cell_type": "code",
      "metadata": {
        "id": "74UtJ5Yx2nKi"
      },
      "source": [
        "training_seqs=tokenizer.texts_to_sequences(training_sentences)\n",
        "training_pads=pad_sequences(training_seqs,maxlen=max_length,padding=padding_type,truncating=trunc_type)"
      ],
      "execution_count": 41,
      "outputs": []
    },
    {
      "cell_type": "code",
      "metadata": {
        "id": "mXh_wBiT3YhG"
      },
      "source": [
        "testing_seqs=tokenizer.texts_to_sequences(testing_sentences)\n",
        "testing_pads=pad_sequences(testing_seqs,maxlen=max_length,padding=padding_type,truncating=trunc_type)"
      ],
      "execution_count": 42,
      "outputs": []
    },
    {
      "cell_type": "code",
      "metadata": {
        "id": "3XvUXwIF3xoR"
      },
      "source": [
        "import numpy as np\n",
        "training_pads=np.array(training_pads)\n",
        "training_labels=np.array(training_labels)\n",
        "testing__pads=np.array(testing_pads)\n",
        "testing_labels=np.array(testing_labels)"
      ],
      "execution_count": 43,
      "outputs": []
    },
    {
      "cell_type": "code",
      "metadata": {
        "id": "KCWicMkm5jm_"
      },
      "source": [
        "model=tf.keras.Sequential([\n",
        "                           tf.keras.layers.Embedding(vocab_size,embedding_size,input_length=max_length),\n",
        "                           tf.keras.layers.GlobalAveragePooling1D(),\n",
        "                           tf.keras.layers.Dense(32,activation='relu'),\n",
        "                           tf.keras.layers.Dense(1,activation='sigmoid')\n",
        "])\n",
        "model.compile(loss='binary_crossentropy',optimizer='adam',metrics=['accuracy'])"
      ],
      "execution_count": 44,
      "outputs": []
    },
    {
      "cell_type": "code",
      "metadata": {
        "colab": {
          "base_uri": "https://localhost:8080/"
        },
        "id": "7kVqMnLf6DND",
        "outputId": "79ac2d96-461f-4733-a2eb-1964727e3389"
      },
      "source": [
        "history=model.fit(training_pads,training_labels,epochs=30,validation_data=(testing_pads,testing_labels),verbose=2)"
      ],
      "execution_count": 45,
      "outputs": [
        {
          "output_type": "stream",
          "text": [
            "Epoch 1/30\n",
            "625/625 - 2s - loss: 0.5335 - accuracy: 0.7266 - val_loss: 0.4144 - val_accuracy: 0.8071\n",
            "Epoch 2/30\n",
            "625/625 - 1s - loss: 0.3793 - accuracy: 0.8257 - val_loss: 0.3980 - val_accuracy: 0.8137\n",
            "Epoch 3/30\n",
            "625/625 - 1s - loss: 0.3626 - accuracy: 0.8346 - val_loss: 0.4024 - val_accuracy: 0.8137\n",
            "Epoch 4/30\n",
            "625/625 - 1s - loss: 0.3566 - accuracy: 0.8382 - val_loss: 0.4082 - val_accuracy: 0.8114\n",
            "Epoch 5/30\n",
            "625/625 - 1s - loss: 0.3537 - accuracy: 0.8399 - val_loss: 0.4027 - val_accuracy: 0.8152\n",
            "Epoch 6/30\n",
            "625/625 - 1s - loss: 0.3509 - accuracy: 0.8404 - val_loss: 0.4087 - val_accuracy: 0.8116\n",
            "Epoch 7/30\n",
            "625/625 - 1s - loss: 0.3498 - accuracy: 0.8400 - val_loss: 0.4074 - val_accuracy: 0.8125\n",
            "Epoch 8/30\n",
            "625/625 - 1s - loss: 0.3470 - accuracy: 0.8421 - val_loss: 0.4075 - val_accuracy: 0.8097\n",
            "Epoch 9/30\n",
            "625/625 - 1s - loss: 0.3466 - accuracy: 0.8418 - val_loss: 0.4010 - val_accuracy: 0.8146\n",
            "Epoch 10/30\n",
            "625/625 - 1s - loss: 0.3435 - accuracy: 0.8433 - val_loss: 0.4073 - val_accuracy: 0.8067\n",
            "Epoch 11/30\n",
            "625/625 - 1s - loss: 0.3398 - accuracy: 0.8474 - val_loss: 0.3969 - val_accuracy: 0.8188\n",
            "Epoch 12/30\n",
            "625/625 - 1s - loss: 0.3361 - accuracy: 0.8474 - val_loss: 0.4006 - val_accuracy: 0.8116\n",
            "Epoch 13/30\n",
            "625/625 - 1s - loss: 0.3338 - accuracy: 0.8487 - val_loss: 0.3954 - val_accuracy: 0.8213\n",
            "Epoch 14/30\n",
            "625/625 - 1s - loss: 0.3319 - accuracy: 0.8487 - val_loss: 0.3946 - val_accuracy: 0.8202\n",
            "Epoch 15/30\n",
            "625/625 - 1s - loss: 0.3293 - accuracy: 0.8523 - val_loss: 0.3980 - val_accuracy: 0.8198\n",
            "Epoch 16/30\n",
            "625/625 - 1s - loss: 0.3267 - accuracy: 0.8538 - val_loss: 0.3941 - val_accuracy: 0.8216\n",
            "Epoch 17/30\n",
            "625/625 - 1s - loss: 0.3242 - accuracy: 0.8540 - val_loss: 0.3958 - val_accuracy: 0.8188\n",
            "Epoch 18/30\n",
            "625/625 - 1s - loss: 0.3217 - accuracy: 0.8562 - val_loss: 0.3979 - val_accuracy: 0.8208\n",
            "Epoch 19/30\n",
            "625/625 - 1s - loss: 0.3194 - accuracy: 0.8580 - val_loss: 0.3974 - val_accuracy: 0.8220\n",
            "Epoch 20/30\n",
            "625/625 - 1s - loss: 0.3177 - accuracy: 0.8576 - val_loss: 0.3974 - val_accuracy: 0.8232\n",
            "Epoch 21/30\n",
            "625/625 - 1s - loss: 0.3155 - accuracy: 0.8589 - val_loss: 0.4036 - val_accuracy: 0.8188\n",
            "Epoch 22/30\n",
            "625/625 - 1s - loss: 0.3143 - accuracy: 0.8611 - val_loss: 0.3994 - val_accuracy: 0.8193\n",
            "Epoch 23/30\n",
            "625/625 - 1s - loss: 0.3122 - accuracy: 0.8628 - val_loss: 0.4043 - val_accuracy: 0.8199\n",
            "Epoch 24/30\n",
            "625/625 - 1s - loss: 0.3115 - accuracy: 0.8630 - val_loss: 0.4030 - val_accuracy: 0.8186\n",
            "Epoch 25/30\n",
            "625/625 - 1s - loss: 0.3099 - accuracy: 0.8623 - val_loss: 0.4045 - val_accuracy: 0.8186\n",
            "Epoch 26/30\n",
            "625/625 - 1s - loss: 0.3080 - accuracy: 0.8639 - val_loss: 0.4052 - val_accuracy: 0.8202\n",
            "Epoch 27/30\n",
            "625/625 - 1s - loss: 0.3066 - accuracy: 0.8652 - val_loss: 0.4081 - val_accuracy: 0.8190\n",
            "Epoch 28/30\n",
            "625/625 - 1s - loss: 0.3062 - accuracy: 0.8655 - val_loss: 0.4128 - val_accuracy: 0.8158\n",
            "Epoch 29/30\n",
            "625/625 - 1s - loss: 0.3040 - accuracy: 0.8676 - val_loss: 0.4095 - val_accuracy: 0.8173\n",
            "Epoch 30/30\n",
            "625/625 - 1s - loss: 0.3031 - accuracy: 0.8680 - val_loss: 0.4138 - val_accuracy: 0.8153\n"
          ],
          "name": "stdout"
        }
      ]
    },
    {
      "cell_type": "code",
      "metadata": {
        "colab": {
          "base_uri": "https://localhost:8080/",
          "height": 541
        },
        "id": "Vt7tLm1G6cJi",
        "outputId": "1f114571-9703-4b3f-e98f-ea26d0f8d924"
      },
      "source": [
        "import matplotlib.pyplot as plt\n",
        "\n",
        "\n",
        "def plot_graphs(history, string):\n",
        "  plt.plot(history.history[string])\n",
        "  plt.plot(history.history['val_'+string])\n",
        "  plt.xlabel(\"Epochs\")\n",
        "  plt.ylabel(string)\n",
        "  plt.legend([string, 'val_'+string])\n",
        "  plt.show()\n",
        "  \n",
        "plot_graphs(history, \"accuracy\")\n",
        "plot_graphs(history, \"loss\")"
      ],
      "execution_count": 46,
      "outputs": [
        {
          "output_type": "display_data",
          "data": {
            "image/png": "[encoded data removed]",
            "text/plain": [
              "<Figure size 432x288 with 1 Axes>"
            ]
          },
          "metadata": {
            "needs_background": "light"
          }
        },
        {
          "output_type": "display_data",
          "data": {
            "image/png": "[encoded data removed]",
            "text/plain": [
              "<Figure size 432x288 with 1 Axes>"
            ]
          },
          "metadata": {
            "needs_background": "light"
          }
        }
      ]
    },
    {
      "cell_type": "code",
      "metadata": {
        "id": "mLvUp7A66fCZ"
      },
      "source": [
        ""
      ],
      "execution_count": null,
      "outputs": []
    }
  ]
}